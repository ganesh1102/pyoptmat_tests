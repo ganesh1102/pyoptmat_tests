{
 "cells": [
  {
   "cell_type": "code",
   "execution_count": 1,
   "metadata": {},
   "outputs": [],
   "source": [
    "from pyoptmat import ode, models, neuralode, solvers\n",
    "\n",
    "import torch\n",
    "from torch.func import vmap, jacfwd, jacrev\n",
    "\n",
    "import numpy as np\n",
    "import scipy\n",
    "\n",
    "import matplotlib.pyplot as plt\n",
    "\n",
    "torch.set_default_dtype(torch.DoubleTensor)\n",
    "\n",
    "# Set up device\n",
    "device = torch.device(\"cuda:0\" if torch.cuda.is_available() else \"cpu\")"
   ]
  },
  {
   "cell_type": "code",
   "execution_count": 6,
   "metadata": {},
   "outputs": [
    {
     "name": "stderr",
     "output_type": "stream",
     "text": [
      "/home/gravisankar/packages/pyoptmat_tests/env/lib/python3.8/site-packages/xarray/backends/plugins.py:71: RuntimeWarning: Engine 'cfgrib' loading failed:\n",
      "Cannot find the ecCodes library\n",
      "  warnings.warn(f\"Engine {name!r} loading failed:\\n{ex}\", RuntimeWarning)\n"
     ]
    },
    {
     "ename": "RuntimeError",
     "evalue": "Index put requires the source and destination dtypes match, got Float for the destination and Double for the source.",
     "output_type": "error",
     "traceback": [
      "\u001b[0;31m---------------------------------------------------------------------------\u001b[0m",
      "\u001b[0;31mRuntimeError\u001b[0m                              Traceback (most recent call last)",
      "Cell \u001b[0;32mIn[6], line 6\u001b[0m\n\u001b[1;32m      4\u001b[0m \u001b[39m# Load in the data\u001b[39;00m\n\u001b[1;32m      5\u001b[0m input_data \u001b[39m=\u001b[39m xr\u001b[39m.\u001b[39mopen_dataset(\u001b[39m\"\u001b[39m\u001b[39mdata.nc\u001b[39m\u001b[39m\"\u001b[39m)\n\u001b[0;32m----> 6\u001b[0m data, results, cycles, types, control \u001b[39m=\u001b[39m experiments\u001b[39m.\u001b[39;49mload_results(\n\u001b[1;32m      7\u001b[0m         input_data, device \u001b[39m=\u001b[39;49m device)\n\u001b[1;32m      9\u001b[0m t \u001b[39m=\u001b[39m data[\u001b[39m0\u001b[39m]\n\u001b[1;32m     10\u001b[0m stress \u001b[39m=\u001b[39m results\u001b[39m.\u001b[39munsqueeze(dim \u001b[39m=\u001b[39m \u001b[39m1\u001b[39m)\n",
      "File \u001b[0;32m~/packages/pyoptmat_tests/env/lib/python3.8/site-packages/pyoptmat/experiments.py:126\u001b[0m, in \u001b[0;36mload_results\u001b[0;34m(xdata, device)\u001b[0m\n\u001b[1;32m    124\u001b[0m data[\u001b[39m0\u001b[39m] \u001b[39m=\u001b[39m time\n\u001b[1;32m    125\u001b[0m data[\u001b[39m1\u001b[39m] \u001b[39m=\u001b[39m temp\n\u001b[0;32m--> 126\u001b[0m data[\u001b[39m2\u001b[39;49m, :, control \u001b[39m==\u001b[39;49m \u001b[39m0\u001b[39;49m] \u001b[39m=\u001b[39m strain[:, control \u001b[39m==\u001b[39m \u001b[39m0\u001b[39m]\n\u001b[1;32m    127\u001b[0m data[\u001b[39m2\u001b[39m, :, control \u001b[39m==\u001b[39m \u001b[39m1\u001b[39m] \u001b[39m=\u001b[39m stress[:, control \u001b[39m==\u001b[39m \u001b[39m1\u001b[39m]\n\u001b[1;32m    129\u001b[0m results \u001b[39m=\u001b[39m torch\u001b[39m.\u001b[39mempty_like(time)\n",
      "\u001b[0;31mRuntimeError\u001b[0m: Index put requires the source and destination dtypes match, got Float for the destination and Double for the source."
     ]
    }
   ],
   "source": [
    "import xarray as xr\n",
    "from pyoptmat import experiments\n",
    "\n",
    "# Load in the data\n",
    "input_data = xr.open_dataset(\"data.nc\")\n",
    "data, results, cycles, types, control = experiments.load_results(\n",
    "        input_data, device = device)\n",
    "\n",
    "t = data[0]\n",
    "stress = results.unsqueeze(dim = 1)\n",
    "erate = data[-1].unsqueeze(dim = 1)\n",
    "T = data[2].unsqueeze(dim = 1)\n",
    "y = torch.rand((2,75,1000))\n",
    "\n",
    "torch.cat(erate, T, dim = 1)"
   ]
  },
  {
   "cell_type": "code",
   "execution_count": 2,
   "metadata": {},
   "outputs": [],
   "source": [
    "class BackwardEuler(torch.nn.Module):\n",
    "    def __init__(self, neural_ode, step_size, max_iter=100, tolerance=1e-6):\n",
    "        super().__init__()\n",
    "        self.neural_ode = neural_ode\n",
    "        self.step_size = step_size\n",
    "        self.max_iter = max_iter\n",
    "        self.tolerance = tolerance\n",
    "\n",
    "    def forward(self, t, y):\n",
    "        y_next = y\n",
    "        for _ in range(self.max_iter):\n",
    "            y_next_new = y + self.step_size * self.neural_ode(t + self.step_size, y_next)\n",
    "            if torch.norm(y_next_new - y_next) < self.tolerance:\n",
    "                break\n",
    "            y_next = y_next_new\n",
    "        else:\n",
    "            raise RuntimeError('Backward Euler method did not converge')\n",
    "        return y_next_new "
   ]
  },
  {
   "cell_type": "code",
   "execution_count": 3,
   "metadata": {},
   "outputs": [],
   "source": [
    "class NeuralODE(torch.nn.Module):\n",
    "    def __init__(self):\n",
    "        super(NeuralODE, self).__init__()\n",
    "        self.net = torch.nn.Sequential(\n",
    "            torch.nn.Linear(5, 3),\n",
    "            torch.nn.LeakyReLU(),\n",
    "            torch.nn.Linear(3, 3),\n",
    "            torch.nn.LeakyReLU(),\n",
    "            torch.nn.Linear(3, 3),\n",
    "            torch.nn.LeakyReLU(),\n",
    "            torch.nn.Linear(3, 3),\n",
    "            torch.nn.LeakyReLU(),\n",
    "            torch.nn.Linear(3, 1)\n",
    "        ).to(device)\n",
    "\n",
    "    def forward(self, t, y):\n",
    "        return self.net(y)"
   ]
  },
  {
   "cell_type": "code",
   "execution_count": 4,
   "metadata": {},
   "outputs": [],
   "source": [
    "input_dim = 5\n",
    "hidden_dim = 3\n",
    "output_dim = 5\n",
    "neural_ode = NeuralODE()\n",
    "\n",
    "step_size = 0.01\n",
    "backward_euler_solver = BackwardEuler(neural_ode, step_size)\n",
    "\n",
    "# Define loss function and optimizer\n",
    "criterion = torch.nn.MSELoss()\n",
    "optimizer = torch.optim.Adam(neural_ode.parameters(), lr=0.01)"
   ]
  },
  {
   "cell_type": "code",
   "execution_count": 5,
   "metadata": {},
   "outputs": [],
   "source": [
    "# Generate training data\n",
    "t_values = torch.linspace(0, 2*np.pi, 100).to(device)\n",
    "y_values = torch.sin(t_values).unsqueeze(-1).to(device)\n",
    "y_values = y_values.repeat(1, 5)  # to match input_dim of NeuralODE\n"
   ]
  },
  {
   "cell_type": "code",
   "execution_count": 20,
   "metadata": {},
   "outputs": [
    {
     "name": "stderr",
     "output_type": "stream",
     "text": [
      "/home/gravisankar/packages/pyoptmat_tests/env/lib/python3.8/site-packages/torch/autograd/__init__.py:200: UserWarning: Error detected in MulBackward0. Traceback of forward call that caused the error:\n",
      "  File \"/usr/lib/python3.8/runpy.py\", line 194, in _run_module_as_main\n",
      "    return _run_code(code, main_globals, None,\n",
      "  File \"/usr/lib/python3.8/runpy.py\", line 87, in _run_code\n",
      "    exec(code, run_globals)\n",
      "  File \"/home/gravisankar/packages/pyoptmat_tests/env/lib/python3.8/site-packages/ipykernel_launcher.py\", line 17, in <module>\n",
      "    app.launch_new_instance()\n",
      "  File \"/home/gravisankar/packages/pyoptmat_tests/env/lib/python3.8/site-packages/traitlets/config/application.py\", line 1043, in launch_instance\n",
      "    app.start()\n",
      "  File \"/home/gravisankar/packages/pyoptmat_tests/env/lib/python3.8/site-packages/ipykernel/kernelapp.py\", line 736, in start\n",
      "    self.io_loop.start()\n",
      "  File \"/home/gravisankar/packages/pyoptmat_tests/env/lib/python3.8/site-packages/tornado/platform/asyncio.py\", line 195, in start\n",
      "    self.asyncio_loop.run_forever()\n",
      "  File \"/usr/lib/python3.8/asyncio/base_events.py\", line 570, in run_forever\n",
      "    self._run_once()\n",
      "  File \"/usr/lib/python3.8/asyncio/base_events.py\", line 1859, in _run_once\n",
      "    handle._run()\n",
      "  File \"/usr/lib/python3.8/asyncio/events.py\", line 81, in _run\n",
      "    self._context.run(self._callback, *self._args)\n",
      "  File \"/home/gravisankar/packages/pyoptmat_tests/env/lib/python3.8/site-packages/ipykernel/kernelbase.py\", line 516, in dispatch_queue\n",
      "    await self.process_one()\n",
      "  File \"/home/gravisankar/packages/pyoptmat_tests/env/lib/python3.8/site-packages/ipykernel/kernelbase.py\", line 505, in process_one\n",
      "    await dispatch(*args)\n",
      "  File \"/home/gravisankar/packages/pyoptmat_tests/env/lib/python3.8/site-packages/ipykernel/kernelbase.py\", line 412, in dispatch_shell\n",
      "    await result\n",
      "  File \"/home/gravisankar/packages/pyoptmat_tests/env/lib/python3.8/site-packages/ipykernel/kernelbase.py\", line 740, in execute_request\n",
      "    reply_content = await reply_content\n",
      "  File \"/home/gravisankar/packages/pyoptmat_tests/env/lib/python3.8/site-packages/ipykernel/ipkernel.py\", line 422, in do_execute\n",
      "    res = shell.run_cell(\n",
      "  File \"/home/gravisankar/packages/pyoptmat_tests/env/lib/python3.8/site-packages/ipykernel/zmqshell.py\", line 546, in run_cell\n",
      "    return super().run_cell(*args, **kwargs)\n",
      "  File \"/home/gravisankar/packages/pyoptmat_tests/env/lib/python3.8/site-packages/IPython/core/interactiveshell.py\", line 3009, in run_cell\n",
      "    result = self._run_cell(\n",
      "  File \"/home/gravisankar/packages/pyoptmat_tests/env/lib/python3.8/site-packages/IPython/core/interactiveshell.py\", line 3064, in _run_cell\n",
      "    result = runner(coro)\n",
      "  File \"/home/gravisankar/packages/pyoptmat_tests/env/lib/python3.8/site-packages/IPython/core/async_helpers.py\", line 129, in _pseudo_sync_runner\n",
      "    coro.send(None)\n",
      "  File \"/home/gravisankar/packages/pyoptmat_tests/env/lib/python3.8/site-packages/IPython/core/interactiveshell.py\", line 3269, in run_cell_async\n",
      "    has_raised = await self.run_ast_nodes(code_ast.body, cell_name,\n",
      "  File \"/home/gravisankar/packages/pyoptmat_tests/env/lib/python3.8/site-packages/IPython/core/interactiveshell.py\", line 3448, in run_ast_nodes\n",
      "    if await self.run_code(code, result, async_=asy):\n",
      "  File \"/home/gravisankar/packages/pyoptmat_tests/env/lib/python3.8/site-packages/IPython/core/interactiveshell.py\", line 3508, in run_code\n",
      "    exec(code_obj, self.user_global_ns, self.user_ns)\n",
      "  File \"/tmp/user/321881/ipykernel_1258176/3381928300.py\", line 8, in <module>\n",
      "    y_pred = backward_euler_solver(t, y_pred)\n",
      "  File \"/home/gravisankar/packages/pyoptmat_tests/env/lib/python3.8/site-packages/torch/nn/modules/module.py\", line 1501, in _call_impl\n",
      "    return forward_call(*args, **kwargs)\n",
      "  File \"/tmp/user/321881/ipykernel_1258176/1826620357.py\", line 12, in forward\n",
      "    y_next_new = y + self.step_size * self.neural_ode(t + self.step_size, y_next)\n",
      " (Triggered internally at ../torch/csrc/autograd/python_anomaly_mode.cpp:114.)\n",
      "  Variable._execution_engine.run_backward(  # Calls into the C++ engine to run the backward pass\n"
     ]
    },
    {
     "ename": "RuntimeError",
     "evalue": "Trying to backward through the graph a second time (or directly access saved tensors after they have already been freed). Saved intermediate values of the graph are freed when you call .backward() or autograd.grad(). Specify retain_graph=True if you need to backward through the graph a second time or if you need to access saved tensors after calling backward.",
     "output_type": "error",
     "traceback": [
      "\u001b[0;31m---------------------------------------------------------------------------\u001b[0m",
      "\u001b[0;31mRuntimeError\u001b[0m                              Traceback (most recent call last)",
      "Cell \u001b[0;32mIn[20], line 10\u001b[0m\n\u001b[1;32m      8\u001b[0m y_pred \u001b[39m=\u001b[39m backward_euler_solver(t, y_pred)\n\u001b[1;32m      9\u001b[0m loss \u001b[39m=\u001b[39m criterion(y_pred, y_true)\n\u001b[0;32m---> 10\u001b[0m loss\u001b[39m.\u001b[39;49mbackward()\n\u001b[1;32m     11\u001b[0m optimizer\u001b[39m.\u001b[39mstep()\n\u001b[1;32m     12\u001b[0m optimizer\u001b[39m.\u001b[39mzero_grad()\n",
      "File \u001b[0;32m~/packages/pyoptmat_tests/env/lib/python3.8/site-packages/torch/_tensor.py:487\u001b[0m, in \u001b[0;36mTensor.backward\u001b[0;34m(self, gradient, retain_graph, create_graph, inputs)\u001b[0m\n\u001b[1;32m    477\u001b[0m \u001b[39mif\u001b[39;00m has_torch_function_unary(\u001b[39mself\u001b[39m):\n\u001b[1;32m    478\u001b[0m     \u001b[39mreturn\u001b[39;00m handle_torch_function(\n\u001b[1;32m    479\u001b[0m         Tensor\u001b[39m.\u001b[39mbackward,\n\u001b[1;32m    480\u001b[0m         (\u001b[39mself\u001b[39m,),\n\u001b[0;32m   (...)\u001b[0m\n\u001b[1;32m    485\u001b[0m         inputs\u001b[39m=\u001b[39minputs,\n\u001b[1;32m    486\u001b[0m     )\n\u001b[0;32m--> 487\u001b[0m torch\u001b[39m.\u001b[39;49mautograd\u001b[39m.\u001b[39;49mbackward(\n\u001b[1;32m    488\u001b[0m     \u001b[39mself\u001b[39;49m, gradient, retain_graph, create_graph, inputs\u001b[39m=\u001b[39;49minputs\n\u001b[1;32m    489\u001b[0m )\n",
      "File \u001b[0;32m~/packages/pyoptmat_tests/env/lib/python3.8/site-packages/torch/autograd/__init__.py:200\u001b[0m, in \u001b[0;36mbackward\u001b[0;34m(tensors, grad_tensors, retain_graph, create_graph, grad_variables, inputs)\u001b[0m\n\u001b[1;32m    195\u001b[0m     retain_graph \u001b[39m=\u001b[39m create_graph\n\u001b[1;32m    197\u001b[0m \u001b[39m# The reason we repeat same the comment below is that\u001b[39;00m\n\u001b[1;32m    198\u001b[0m \u001b[39m# some Python versions print out the first line of a multi-line function\u001b[39;00m\n\u001b[1;32m    199\u001b[0m \u001b[39m# calls in the traceback and some print out the last line\u001b[39;00m\n\u001b[0;32m--> 200\u001b[0m Variable\u001b[39m.\u001b[39;49m_execution_engine\u001b[39m.\u001b[39;49mrun_backward(  \u001b[39m# Calls into the C++ engine to run the backward pass\u001b[39;49;00m\n\u001b[1;32m    201\u001b[0m     tensors, grad_tensors_, retain_graph, create_graph, inputs,\n\u001b[1;32m    202\u001b[0m     allow_unreachable\u001b[39m=\u001b[39;49m\u001b[39mTrue\u001b[39;49;00m, accumulate_grad\u001b[39m=\u001b[39;49m\u001b[39mTrue\u001b[39;49;00m)\n",
      "\u001b[0;31mRuntimeError\u001b[0m: Trying to backward through the graph a second time (or directly access saved tensors after they have already been freed). Saved intermediate values of the graph are freed when you call .backward() or autograd.grad(). Specify retain_graph=True if you need to backward through the graph a second time or if you need to access saved tensors after calling backward."
     ]
    }
   ],
   "source": [
    "# Training loop\n",
    "for epoch in range(2000):\n",
    "    optimizer.zero_grad()\n",
    "    t = torch.tensor(0.0)\n",
    "    y_pred = backward_euler_solver(t, y_values[0])  # initial condition\n",
    "    for y_true in y_values[1:]:\n",
    "        t += step_size\n",
    "        y_pred = backward_euler_solver(t, y_pred)\n",
    "        loss = criterion(y_pred, y_true)\n",
    "        loss.backward()\n",
    "        optimizer.step()\n",
    "        optimizer.zero_grad()\n",
    "\n",
    "    if epoch % 200 == 0:\n",
    "        print(f\"Epoch {epoch}, Loss {loss.item()}\")\n",
    "\n",
    "# Generate test data\n",
    "t_test = torch.linspace(0, 2*np.pi, 100)\n",
    "y_test = torch.sin(t_test).unsqueeze(-1)\n",
    "y_test = y_test.repeat(1, 5)  # to match input_dim of NeuralODE\n",
    "\n",
    "# Test the model\n",
    "t = torch.tensor(0.0)\n",
    "y_pred = backward_euler_solver(t, y_test[0])  # initial condition\n",
    "y_preds = [y_pred.detach().numpy()]\n",
    "for y_true in y_test[1:]:\n",
    "    t += step_size\n",
    "    y_pred = backward_euler_solver(t, y_pred)\n",
    "    y_preds.append(y_pred.detach().numpy())\n",
    "\n",
    "y_preds = np.array(y_preds)\n",
    "\n",
    "# Plot the results\n",
    "plt.figure(figsize=(10, 5))\n",
    "plt.plot(t_test, y_test[:, 0], label='True function')\n",
    "plt.plot(t_test, y_preds[:, 0], label='Neural ODE solution')\n",
    "plt.legend()\n",
    "plt.show()"
   ]
  },
  {
   "cell_type": "code",
   "execution_count": null,
   "metadata": {},
   "outputs": [],
   "source": []
  }
 ],
 "metadata": {
  "kernelspec": {
   "display_name": "pyoptmat_test",
   "language": "python",
   "name": "pyoptmat_test"
  },
  "language_info": {
   "codemirror_mode": {
    "name": "ipython",
    "version": 3
   },
   "file_extension": ".py",
   "mimetype": "text/x-python",
   "name": "python",
   "nbconvert_exporter": "python",
   "pygments_lexer": "ipython3",
   "version": "3.8.10"
  },
  "orig_nbformat": 4
 },
 "nbformat": 4,
 "nbformat_minor": 2
}
